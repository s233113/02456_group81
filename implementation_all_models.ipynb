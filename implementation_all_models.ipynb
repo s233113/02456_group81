{
 "cells": [
  {
   "cell_type": "markdown",
   "metadata": {},
   "source": [
    "## Before running these commands:\n",
    "\n",
    "Please note that this jupyter notebook is not self-contained, and that you need to load an environment and some modules for it to be able to run on the HPC of DTU. We do not recommend to run this locally, as the different models are run in different Python versions, with is non-trivial to do locally, but very easy to do in an HPC by loading and unloading modules.\n",
    "\n",
    "Also, this script is just proof of concept that the models run, and not actually where we trained the models to get our results, since the use of Jupyter Notebooks is highly discouraged by the HPC Team at DTU and our supervisor discouraged us from using it.\n",
    "\n",
    "Lastly, the data needs to be unzipped, after being cloned from the repository (tar -xf P12Data_1.tar.gz, and so on for all the splits)"
   ]
  },
  {
   "cell_type": "markdown",
   "metadata": {},
   "source": [
    "## Baseline models\n",
    "\n",
    "### Generate your own environment\n",
    "\n",
    "module load python3/3.9.19\n",
    "module load cuda/11.8\n",
    "module load cudnn/v8.8.0-prod-cuda-11.X\n",
    "python -m venv ./venv\n",
    "source ./venv/bin/activate\n",
    "pip install -r requirements.txt\n",
    "pip install torch_scatter --extra-index-url https://data.pyg.org/whl/torch-2.2.0+cu118.html"
   ]
  },
  {
   "cell_type": "code",
   "execution_count": null,
   "metadata": {},
   "outputs": [],
   "source": [
    "import subprocess\n",
    "\n",
    "# Function to execute command line commands \n",
    "def run_command(command):\n",
    "    try:\n",
    "        result = subprocess.run(command, shell=True, check=True, text=True, capture_output=True)\n",
    "        print(\"Output:\\n\", result.stdout)\n",
    "    except subprocess.CalledProcessError as e:\n",
    "        print(\"Error:\\n\", e.stderr)"
   ]
  },
  {
   "cell_type": "code",
   "execution_count": null,
   "metadata": {},
   "outputs": [],
   "source": [
    "# Transformer\n",
    "command = \"python cli.py --output_path=transformer --epochs=1 --batch_size=16 --model_type=transformer --dropout=0.2 --attn_dropout=0.1 --layers=3 --heads=1 --pooling=max --lr=0.0001\"\n",
    "run_command(command)"
   ]
  },
  {
   "cell_type": "code",
   "execution_count": null,
   "metadata": {},
   "outputs": [],
   "source": [
    "#Seft\n",
    "command = 'python cli.py --output_path=seft --model_type=seft --epochs=1 --batch_size=128 --dropout=0.4 --attn_dropout=0.3 --heads=2 --lr=0.01 --seft_dot_prod_dim=512 --seft_n_phi_layers=1 --seft_n_psi_layers=5 --seft_n_rho_layers=2 --seft_phi_dropout=0.3 --seft_phi_width=512 --seft_psi_width=32 --seft_psi_latent_width=128 --seft_latent_width=64 --seft_rho_dropout=0.0 --seft_rho_width=256 --seft_max_timescales=1000 --seft_n_positional_dims=16'\n",
    "run_command(command)"
   ]
  },
  {
   "cell_type": "code",
   "execution_count": null,
   "metadata": {},
   "outputs": [],
   "source": [
    "#IP-Nets\n",
    "command = 'python cli.py --output_path=ip_nets --model_type=ipnets --epochs=1 --batch_size=32 --lr=0.001 --ipnets_imputation_stepsize=1 --ipnets_reconst_fraction=0.75 --recurrent_dropout=0.3 --recurrent_n_units=32'\n",
    "run_command(command)"
   ]
  },
  {
   "cell_type": "code",
   "execution_count": null,
   "metadata": {},
   "outputs": [],
   "source": [
    "#Grud\n",
    "command = 'python cli.py --output_path=grud --model_type=grud --epochs=1 --batch_size=32 --lr=0.0001 --recurrent_dropout=0.2 --recurrent_n_units=128'\n",
    "run_command(command)"
   ]
  },
  {
   "cell_type": "markdown",
   "metadata": {},
   "source": [
    "## Mamba models\n",
    "\n",
    "### Generate your own environment (NOTE THE DIFFERENT PYTHON VERSION)\n",
    "\n",
    "module load python3/3.10.12\n",
    "module load cuda/11.8\n",
    "module load cudnn/v8.8.0-prod-cuda-11.X\n",
    "python -m venv ./venv\n",
    "source ./venv/bin/activate\n",
    "pip install -r requirementsmamba.txt"
   ]
  },
  {
   "cell_type": "code",
   "execution_count": null,
   "metadata": {},
   "outputs": [],
   "source": [
    "#EHR Mamba\n",
    "command = 'python updated_cli_2.py --output_path=./mamba --model_type=mamba --epochs=1 --batch_size=32 --dropout=0.1 --lr=0.0001'\n",
    "run_command(command)"
   ]
  },
  {
   "cell_type": "code",
   "execution_count": null,
   "metadata": {},
   "outputs": [],
   "source": [
    "#Custom mamba\n",
    "command = 'python mamba_hyperparams.py'\n",
    "run_command(command)"
   ]
  }
 ],
 "metadata": {
  "language_info": {
   "name": "python"
  }
 },
 "nbformat": 4,
 "nbformat_minor": 2
}
